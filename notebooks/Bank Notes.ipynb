{
 "cells": [
  {
   "cell_type": "code",
   "execution_count": 9,
   "id": "cd4a1548",
   "metadata": {},
   "outputs": [],
   "source": [
    "import pandas as pd\n",
    "import numpy as np\n",
    "\n",
    "import matplotlib.pyplot as plt\n",
    "\n",
    "from sklearn.decomposition import PCA\n",
    "from sklearn.linear_model import LinearRegression\n",
    "\n",
    "%matplotlib inline"
   ]
  },
  {
   "cell_type": "code",
   "execution_count": 2,
   "id": "706a425a",
   "metadata": {},
   "outputs": [],
   "source": [
    "path = \"data-sets/swiss_bank_notes.csv\"\n",
    "df = pd.read_csv(path)"
   ]
  },
  {
   "cell_type": "code",
   "execution_count": 3,
   "id": "96aaa310",
   "metadata": {},
   "outputs": [
    {
     "data": {
      "text/html": [
       "<div>\n",
       "<style scoped>\n",
       "    .dataframe tbody tr th:only-of-type {\n",
       "        vertical-align: middle;\n",
       "    }\n",
       "\n",
       "    .dataframe tbody tr th {\n",
       "        vertical-align: top;\n",
       "    }\n",
       "\n",
       "    .dataframe thead th {\n",
       "        text-align: right;\n",
       "    }\n",
       "</style>\n",
       "<table border=\"1\" class=\"dataframe\">\n",
       "  <thead>\n",
       "    <tr style=\"text-align: right;\">\n",
       "      <th></th>\n",
       "      <th>type</th>\n",
       "      <th>length</th>\n",
       "      <th>left</th>\n",
       "      <th>right</th>\n",
       "      <th>bottom</th>\n",
       "      <th>top</th>\n",
       "      <th>diag</th>\n",
       "    </tr>\n",
       "  </thead>\n",
       "  <tbody>\n",
       "    <tr>\n",
       "      <th>0</th>\n",
       "      <td>real</td>\n",
       "      <td>214.8</td>\n",
       "      <td>131.0</td>\n",
       "      <td>131.1</td>\n",
       "      <td>9.0</td>\n",
       "      <td>9.7</td>\n",
       "      <td>141.0</td>\n",
       "    </tr>\n",
       "    <tr>\n",
       "      <th>1</th>\n",
       "      <td>real</td>\n",
       "      <td>214.6</td>\n",
       "      <td>129.7</td>\n",
       "      <td>129.7</td>\n",
       "      <td>8.1</td>\n",
       "      <td>9.5</td>\n",
       "      <td>141.7</td>\n",
       "    </tr>\n",
       "    <tr>\n",
       "      <th>2</th>\n",
       "      <td>real</td>\n",
       "      <td>214.8</td>\n",
       "      <td>129.7</td>\n",
       "      <td>129.7</td>\n",
       "      <td>8.7</td>\n",
       "      <td>9.6</td>\n",
       "      <td>142.2</td>\n",
       "    </tr>\n",
       "    <tr>\n",
       "      <th>3</th>\n",
       "      <td>real</td>\n",
       "      <td>214.8</td>\n",
       "      <td>129.7</td>\n",
       "      <td>129.6</td>\n",
       "      <td>7.5</td>\n",
       "      <td>10.4</td>\n",
       "      <td>142.0</td>\n",
       "    </tr>\n",
       "    <tr>\n",
       "      <th>4</th>\n",
       "      <td>real</td>\n",
       "      <td>215.0</td>\n",
       "      <td>129.6</td>\n",
       "      <td>129.7</td>\n",
       "      <td>10.4</td>\n",
       "      <td>7.7</td>\n",
       "      <td>141.8</td>\n",
       "    </tr>\n",
       "    <tr>\n",
       "      <th>...</th>\n",
       "      <td>...</td>\n",
       "      <td>...</td>\n",
       "      <td>...</td>\n",
       "      <td>...</td>\n",
       "      <td>...</td>\n",
       "      <td>...</td>\n",
       "      <td>...</td>\n",
       "    </tr>\n",
       "    <tr>\n",
       "      <th>195</th>\n",
       "      <td>fake</td>\n",
       "      <td>215.0</td>\n",
       "      <td>130.4</td>\n",
       "      <td>130.3</td>\n",
       "      <td>9.9</td>\n",
       "      <td>12.1</td>\n",
       "      <td>139.6</td>\n",
       "    </tr>\n",
       "    <tr>\n",
       "      <th>196</th>\n",
       "      <td>fake</td>\n",
       "      <td>215.1</td>\n",
       "      <td>130.3</td>\n",
       "      <td>129.9</td>\n",
       "      <td>10.3</td>\n",
       "      <td>11.5</td>\n",
       "      <td>139.7</td>\n",
       "    </tr>\n",
       "    <tr>\n",
       "      <th>197</th>\n",
       "      <td>fake</td>\n",
       "      <td>214.8</td>\n",
       "      <td>130.3</td>\n",
       "      <td>130.4</td>\n",
       "      <td>10.6</td>\n",
       "      <td>11.1</td>\n",
       "      <td>140.0</td>\n",
       "    </tr>\n",
       "    <tr>\n",
       "      <th>198</th>\n",
       "      <td>fake</td>\n",
       "      <td>214.7</td>\n",
       "      <td>130.7</td>\n",
       "      <td>130.8</td>\n",
       "      <td>11.2</td>\n",
       "      <td>11.2</td>\n",
       "      <td>139.4</td>\n",
       "    </tr>\n",
       "    <tr>\n",
       "      <th>199</th>\n",
       "      <td>fake</td>\n",
       "      <td>214.3</td>\n",
       "      <td>129.9</td>\n",
       "      <td>129.9</td>\n",
       "      <td>10.2</td>\n",
       "      <td>11.5</td>\n",
       "      <td>139.6</td>\n",
       "    </tr>\n",
       "  </tbody>\n",
       "</table>\n",
       "<p>200 rows × 7 columns</p>\n",
       "</div>"
      ],
      "text/plain": [
       "     type  length   left  right  bottom   top   diag\n",
       "0    real   214.8  131.0  131.1     9.0   9.7  141.0\n",
       "1    real   214.6  129.7  129.7     8.1   9.5  141.7\n",
       "2    real   214.8  129.7  129.7     8.7   9.6  142.2\n",
       "3    real   214.8  129.7  129.6     7.5  10.4  142.0\n",
       "4    real   215.0  129.6  129.7    10.4   7.7  141.8\n",
       "..    ...     ...    ...    ...     ...   ...    ...\n",
       "195  fake   215.0  130.4  130.3     9.9  12.1  139.6\n",
       "196  fake   215.1  130.3  129.9    10.3  11.5  139.7\n",
       "197  fake   214.8  130.3  130.4    10.6  11.1  140.0\n",
       "198  fake   214.7  130.7  130.8    11.2  11.2  139.4\n",
       "199  fake   214.3  129.9  129.9    10.2  11.5  139.6\n",
       "\n",
       "[200 rows x 7 columns]"
      ]
     },
     "execution_count": 3,
     "metadata": {},
     "output_type": "execute_result"
    }
   ],
   "source": [
    "df"
   ]
  },
  {
   "cell_type": "code",
   "execution_count": 4,
   "id": "2b8dc159",
   "metadata": {},
   "outputs": [],
   "source": [
    "df['type'] = df['type'].map({'fake': 0, 'real': 1})"
   ]
  },
  {
   "cell_type": "markdown",
   "id": "cf0d2d24",
   "metadata": {},
   "source": [
    "Reproducing the results from chapter 3 of Hardie"
   ]
  },
  {
   "cell_type": "code",
   "execution_count": 46,
   "id": "3a6d88d3",
   "metadata": {},
   "outputs": [],
   "source": [
    "X_fake = df[df[\"type\"] == 0]\n",
    "X_fake = X_fake.drop(columns=[\"type\"])\n",
    "\n",
    "X_genuine = df[df[\"type\"] == 1]\n",
    "X_genuine = X_genuine.drop(columns=[\"type\"])\n",
    "\n",
    "\n",
    "X = df.drop(columns=[\"type\"])\n",
    "y = df['type']"
   ]
  },
  {
   "cell_type": "code",
   "execution_count": 43,
   "id": "525c69fd",
   "metadata": {},
   "outputs": [
    {
     "data": {
      "text/plain": [
       "array([[ 0.14,  0.03,  0.02, -0.1 , -0.02,  0.08],\n",
       "       [ 0.03,  0.13,  0.11,  0.22,  0.11, -0.21],\n",
       "       [ 0.02,  0.11,  0.16,  0.28,  0.13, -0.24],\n",
       "       [-0.1 ,  0.22,  0.28,  2.09,  0.16, -1.04],\n",
       "       [-0.02,  0.11,  0.13,  0.16,  0.64, -0.55],\n",
       "       [ 0.08, -0.21, -0.24, -1.04, -0.55,  1.33]])"
      ]
     },
     "execution_count": 43,
     "metadata": {},
     "output_type": "execute_result"
    }
   ],
   "source": [
    "S = np.cov(X, rowvar=False)\n",
    "S.round(2)"
   ]
  },
  {
   "cell_type": "code",
   "execution_count": 51,
   "id": "da2c33e4",
   "metadata": {},
   "outputs": [
    {
     "data": {
      "text/plain": [
       "array([[ 0.124,  0.032,  0.024, -0.101,  0.019,  0.012],\n",
       "       [ 0.032,  0.065,  0.047, -0.024, -0.012, -0.005],\n",
       "       [ 0.024,  0.047,  0.089, -0.019,  0.   ,  0.034],\n",
       "       [-0.101, -0.024, -0.019,  1.281, -0.49 ,  0.238],\n",
       "       [ 0.019, -0.012,  0.   , -0.49 ,  0.404, -0.022],\n",
       "       [ 0.012, -0.005,  0.034,  0.238, -0.022,  0.311]])"
      ]
     },
     "execution_count": 51,
     "metadata": {},
     "output_type": "execute_result"
    }
   ],
   "source": [
    "S_f = np.cov(X_fake, rowvar=False)\n",
    "S_f.round(3)"
   ]
  },
  {
   "cell_type": "code",
   "execution_count": 52,
   "id": "79801338",
   "metadata": {},
   "outputs": [
    {
     "data": {
      "text/plain": [
       "array([[ 0.15 ,  0.058,  0.057,  0.057,  0.014,  0.005],\n",
       "       [ 0.058,  0.133,  0.086,  0.057,  0.049, -0.043],\n",
       "       [ 0.057,  0.086,  0.126,  0.058,  0.031, -0.024],\n",
       "       [ 0.057,  0.057,  0.058,  0.413, -0.263, -0.   ],\n",
       "       [ 0.014,  0.049,  0.031, -0.263,  0.421, -0.075],\n",
       "       [ 0.005, -0.043, -0.024, -0.   , -0.075,  0.2  ]])"
      ]
     },
     "execution_count": 52,
     "metadata": {},
     "output_type": "execute_result"
    }
   ],
   "source": [
    "S_g = np.cov(X_genuine, rowvar=False)\n",
    "S_g.round(3)"
   ]
  },
  {
   "cell_type": "code",
   "execution_count": 59,
   "id": "11c8c6a8",
   "metadata": {},
   "outputs": [
    {
     "data": {
      "text/plain": [
       "<matplotlib.collections.PathCollection at 0x7fb03eee86d0>"
      ]
     },
     "execution_count": 59,
     "metadata": {},
     "output_type": "execute_result"
    },
    {
     "data": {
      "image/png": "[encoded data removed]",
      "text/plain": [
       "<Figure size 432x288 with 1 Axes>"
      ]
     },
     "metadata": {
      "needs_background": "light"
     },
     "output_type": "display_data"
    }
   ],
   "source": [
    "plt.scatter(df['bottom'], df['top'], c=df['type'])"
   ]
  },
  {
   "cell_type": "code",
   "execution_count": 71,
   "id": "f70bed21",
   "metadata": {},
   "outputs": [],
   "source": [
    "S_g = S_g.round(3)\n",
    "\n",
    "std_dev = np.sqrt(np.diag(S_g))\n",
    "std_dev = np.outer(std_dev, std_dev)\n",
    "\n",
    "R = S_g / std_dev\n",
    "R = R.round(3)"
   ]
  },
  {
   "cell_type": "code",
   "execution_count": 72,
   "id": "a7592e28",
   "metadata": {},
   "outputs": [
    {
     "data": {
      "text/plain": [
       "array([[ 1.   ,  0.411,  0.415,  0.229,  0.056,  0.029],\n",
       "       [ 0.411,  1.   ,  0.664,  0.243,  0.207, -0.264],\n",
       "       [ 0.415,  0.664,  1.   ,  0.254,  0.135, -0.151],\n",
       "       [ 0.229,  0.243,  0.254,  1.   , -0.631, -0.   ],\n",
       "       [ 0.056,  0.207,  0.135, -0.631,  1.   , -0.258],\n",
       "       [ 0.029, -0.264, -0.151, -0.   , -0.258,  1.   ]])"
      ]
     },
     "execution_count": 72,
     "metadata": {},
     "output_type": "execute_result"
    }
   ],
   "source": [
    "R"
   ]
  },
  {
   "cell_type": "markdown",
   "id": "54b920dc",
   "metadata": {},
   "source": [
    "Performing the regression fit on the genuine notes"
   ]
  },
  {
   "cell_type": "code",
   "execution_count": 76,
   "id": "da26a666",
   "metadata": {},
   "outputs": [
    {
     "data": {
      "text/plain": [
       "<matplotlib.collections.PathCollection at 0x7fb03f6e0a90>"
      ]
     },
     "execution_count": 76,
     "metadata": {},
     "output_type": "execute_result"
    },
    {
     "data": {
      "image/png": "[encoded data removed]",
      "text/plain": [
       "<Figure size 432x288 with 1 Axes>"
      ]
     },
     "metadata": {
      "needs_background": "light"
     },
     "output_type": "display_data"
    }
   ],
   "source": [
    "plt.scatter(X_genuine[\"bottom\"], X_genuine[\"top\"])"
   ]
  },
  {
   "cell_type": "code",
   "execution_count": 93,
   "id": "4630fc3b",
   "metadata": {},
   "outputs": [],
   "source": [
    "X = X_genuine[[\"top\"]]             # Double brackets makes it a DataFrame (2D)\n",
    "y = X_genuine[\"bottom\"] \n",
    "\n",
    "lm = LinearRegression().fit(X, y)"
   ]
  },
  {
   "cell_type": "code",
   "execution_count": 94,
   "id": "138f66f3",
   "metadata": {},
   "outputs": [
    {
     "name": "stdout",
     "output_type": "stream",
     "text": [
      "slope: -0.6255515904992136\n",
      "intercept 14.665608572196003\n"
     ]
    }
   ],
   "source": [
    "print(f\"slope: {lm.coef_[0]}\")\n",
    "print(f\"intercept {lm.intercept_}\")"
   ]
  },
  {
   "cell_type": "markdown",
   "id": "5c30d606",
   "metadata": {},
   "source": [
    "### PCA \n",
    "\n",
    "See lecture 3 - PCA Part I. "
   ]
  },
  {
   "cell_type": "code",
   "execution_count": 23,
   "id": "353a290c",
   "metadata": {},
   "outputs": [],
   "source": [
    "y = df['type']\n",
    "X = df.drop(columns=[\"type\"])\n",
    "X_center = X - X.mean()"
   ]
  },
  {
   "cell_type": "code",
   "execution_count": 24,
   "id": "aaf8eb84",
   "metadata": {},
   "outputs": [
    {
     "data": {
      "text/html": [
       "<div>\n",
       "<style scoped>\n",
       "    .dataframe tbody tr th:only-of-type {\n",
       "        vertical-align: middle;\n",
       "    }\n",
       "\n",
       "    .dataframe tbody tr th {\n",
       "        vertical-align: top;\n",
       "    }\n",
       "\n",
       "    .dataframe thead th {\n",
       "        text-align: right;\n",
       "    }\n",
       "</style>\n",
       "<table border=\"1\" class=\"dataframe\">\n",
       "  <thead>\n",
       "    <tr style=\"text-align: right;\">\n",
       "      <th></th>\n",
       "      <th>length</th>\n",
       "      <th>left</th>\n",
       "      <th>right</th>\n",
       "      <th>bottom</th>\n",
       "      <th>top</th>\n",
       "      <th>diag</th>\n",
       "    </tr>\n",
       "  </thead>\n",
       "  <tbody>\n",
       "    <tr>\n",
       "      <th>0</th>\n",
       "      <td>-0.096</td>\n",
       "      <td>0.8785</td>\n",
       "      <td>1.1435</td>\n",
       "      <td>-0.4175</td>\n",
       "      <td>-0.9505</td>\n",
       "      <td>0.5165</td>\n",
       "    </tr>\n",
       "    <tr>\n",
       "      <th>1</th>\n",
       "      <td>-0.296</td>\n",
       "      <td>-0.4215</td>\n",
       "      <td>-0.2565</td>\n",
       "      <td>-1.3175</td>\n",
       "      <td>-1.1505</td>\n",
       "      <td>1.2165</td>\n",
       "    </tr>\n",
       "    <tr>\n",
       "      <th>2</th>\n",
       "      <td>-0.096</td>\n",
       "      <td>-0.4215</td>\n",
       "      <td>-0.2565</td>\n",
       "      <td>-0.7175</td>\n",
       "      <td>-1.0505</td>\n",
       "      <td>1.7165</td>\n",
       "    </tr>\n",
       "    <tr>\n",
       "      <th>3</th>\n",
       "      <td>-0.096</td>\n",
       "      <td>-0.4215</td>\n",
       "      <td>-0.3565</td>\n",
       "      <td>-1.9175</td>\n",
       "      <td>-0.2505</td>\n",
       "      <td>1.5165</td>\n",
       "    </tr>\n",
       "    <tr>\n",
       "      <th>4</th>\n",
       "      <td>0.104</td>\n",
       "      <td>-0.5215</td>\n",
       "      <td>-0.2565</td>\n",
       "      <td>0.9825</td>\n",
       "      <td>-2.9505</td>\n",
       "      <td>1.3165</td>\n",
       "    </tr>\n",
       "    <tr>\n",
       "      <th>...</th>\n",
       "      <td>...</td>\n",
       "      <td>...</td>\n",
       "      <td>...</td>\n",
       "      <td>...</td>\n",
       "      <td>...</td>\n",
       "      <td>...</td>\n",
       "    </tr>\n",
       "    <tr>\n",
       "      <th>195</th>\n",
       "      <td>0.104</td>\n",
       "      <td>0.2785</td>\n",
       "      <td>0.3435</td>\n",
       "      <td>0.4825</td>\n",
       "      <td>1.4495</td>\n",
       "      <td>-0.8835</td>\n",
       "    </tr>\n",
       "    <tr>\n",
       "      <th>196</th>\n",
       "      <td>0.204</td>\n",
       "      <td>0.1785</td>\n",
       "      <td>-0.0565</td>\n",
       "      <td>0.8825</td>\n",
       "      <td>0.8495</td>\n",
       "      <td>-0.7835</td>\n",
       "    </tr>\n",
       "    <tr>\n",
       "      <th>197</th>\n",
       "      <td>-0.096</td>\n",
       "      <td>0.1785</td>\n",
       "      <td>0.4435</td>\n",
       "      <td>1.1825</td>\n",
       "      <td>0.4495</td>\n",
       "      <td>-0.4835</td>\n",
       "    </tr>\n",
       "    <tr>\n",
       "      <th>198</th>\n",
       "      <td>-0.196</td>\n",
       "      <td>0.5785</td>\n",
       "      <td>0.8435</td>\n",
       "      <td>1.7825</td>\n",
       "      <td>0.5495</td>\n",
       "      <td>-1.0835</td>\n",
       "    </tr>\n",
       "    <tr>\n",
       "      <th>199</th>\n",
       "      <td>-0.596</td>\n",
       "      <td>-0.2215</td>\n",
       "      <td>-0.0565</td>\n",
       "      <td>0.7825</td>\n",
       "      <td>0.8495</td>\n",
       "      <td>-0.8835</td>\n",
       "    </tr>\n",
       "  </tbody>\n",
       "</table>\n",
       "<p>200 rows × 6 columns</p>\n",
       "</div>"
      ],
      "text/plain": [
       "     length    left   right  bottom     top    diag\n",
       "0    -0.096  0.8785  1.1435 -0.4175 -0.9505  0.5165\n",
       "1    -0.296 -0.4215 -0.2565 -1.3175 -1.1505  1.2165\n",
       "2    -0.096 -0.4215 -0.2565 -0.7175 -1.0505  1.7165\n",
       "3    -0.096 -0.4215 -0.3565 -1.9175 -0.2505  1.5165\n",
       "4     0.104 -0.5215 -0.2565  0.9825 -2.9505  1.3165\n",
       "..      ...     ...     ...     ...     ...     ...\n",
       "195   0.104  0.2785  0.3435  0.4825  1.4495 -0.8835\n",
       "196   0.204  0.1785 -0.0565  0.8825  0.8495 -0.7835\n",
       "197  -0.096  0.1785  0.4435  1.1825  0.4495 -0.4835\n",
       "198  -0.196  0.5785  0.8435  1.7825  0.5495 -1.0835\n",
       "199  -0.596 -0.2215 -0.0565  0.7825  0.8495 -0.8835\n",
       "\n",
       "[200 rows x 6 columns]"
      ]
     },
     "execution_count": 24,
     "metadata": {},
     "output_type": "execute_result"
    }
   ],
   "source": [
    "X_center"
   ]
  },
  {
   "cell_type": "code",
   "execution_count": 29,
   "id": "7e328190",
   "metadata": {},
   "outputs": [
    {
     "data": {
      "text/html": [
       "<style>#sk-container-id-7 {color: black;background-color: white;}#sk-container-id-7 pre{padding: 0;}#sk-container-id-7 div.sk-toggleable {background-color: white;}#sk-container-id-7 label.sk-toggleable__label {cursor: pointer;display: block;width: 100%;margin-bottom: 0;padding: 0.3em;box-sizing: border-box;text-align: center;}#sk-container-id-7 label.sk-toggleable__label-arrow:before {content: \"▸\";float: left;margin-right: 0.25em;color: #696969;}#sk-container-id-7 label.sk-toggleable__label-arrow:hover:before {color: black;}#sk-container-id-7 div.sk-estimator:hover label.sk-toggleable__label-arrow:before {color: black;}#sk-container-id-7 div.sk-toggleable__content {max-height: 0;max-width: 0;overflow: hidden;text-align: left;background-color: #f0f8ff;}#sk-container-id-7 div.sk-toggleable__content pre {margin: 0.2em;color: black;border-radius: 0.25em;background-color: #f0f8ff;}#sk-container-id-7 input.sk-toggleable__control:checked~div.sk-toggleable__content {max-height: 200px;max-width: 100%;overflow: auto;}#sk-container-id-7 input.sk-toggleable__control:checked~label.sk-toggleable__label-arrow:before {content: \"▾\";}#sk-container-id-7 div.sk-estimator input.sk-toggleable__control:checked~label.sk-toggleable__label {background-color: #d4ebff;}#sk-container-id-7 div.sk-label input.sk-toggleable__control:checked~label.sk-toggleable__label {background-color: #d4ebff;}#sk-container-id-7 input.sk-hidden--visually {border: 0;clip: rect(1px 1px 1px 1px);clip: rect(1px, 1px, 1px, 1px);height: 1px;margin: -1px;overflow: hidden;padding: 0;position: absolute;width: 1px;}#sk-container-id-7 div.sk-estimator {font-family: monospace;background-color: #f0f8ff;border: 1px dotted black;border-radius: 0.25em;box-sizing: border-box;margin-bottom: 0.5em;}#sk-container-id-7 div.sk-estimator:hover {background-color: #d4ebff;}#sk-container-id-7 div.sk-parallel-item::after {content: \"\";width: 100%;border-bottom: 1px solid gray;flex-grow: 1;}#sk-container-id-7 div.sk-label:hover label.sk-toggleable__label {background-color: #d4ebff;}#sk-container-id-7 div.sk-serial::before {content: \"\";position: absolute;border-left: 1px solid gray;box-sizing: border-box;top: 0;bottom: 0;left: 50%;z-index: 0;}#sk-container-id-7 div.sk-serial {display: flex;flex-direction: column;align-items: center;background-color: white;padding-right: 0.2em;padding-left: 0.2em;position: relative;}#sk-container-id-7 div.sk-item {position: relative;z-index: 1;}#sk-container-id-7 div.sk-parallel {display: flex;align-items: stretch;justify-content: center;background-color: white;position: relative;}#sk-container-id-7 div.sk-item::before, #sk-container-id-7 div.sk-parallel-item::before {content: \"\";position: absolute;border-left: 1px solid gray;box-sizing: border-box;top: 0;bottom: 0;left: 50%;z-index: -1;}#sk-container-id-7 div.sk-parallel-item {display: flex;flex-direction: column;z-index: 1;position: relative;background-color: white;}#sk-container-id-7 div.sk-parallel-item:first-child::after {align-self: flex-end;width: 50%;}#sk-container-id-7 div.sk-parallel-item:last-child::after {align-self: flex-start;width: 50%;}#sk-container-id-7 div.sk-parallel-item:only-child::after {width: 0;}#sk-container-id-7 div.sk-dashed-wrapped {border: 1px dashed gray;margin: 0 0.4em 0.5em 0.4em;box-sizing: border-box;padding-bottom: 0.4em;background-color: white;}#sk-container-id-7 div.sk-label label {font-family: monospace;font-weight: bold;display: inline-block;line-height: 1.2em;}#sk-container-id-7 div.sk-label-container {text-align: center;}#sk-container-id-7 div.sk-container {/* jupyter's `normalize.less` sets `[hidden] { display: none; }` but bootstrap.min.css set `[hidden] { display: none !important; }` so we also need the `!important` here to be able to override the default hidden behavior on the sphinx rendered scikit-learn.org. See: https://github.com/scikit-learn/scikit-learn/issues/21755 */display: inline-block !important;position: relative;}#sk-container-id-7 div.sk-text-repr-fallback {display: none;}</style><div id=\"sk-container-id-7\" class=\"sk-top-container\"><div class=\"sk-text-repr-fallback\"><pre>PCA()</pre><b>In a Jupyter environment, please rerun this cell to show the HTML representation or trust the notebook. <br />On GitHub, the HTML representation is unable to render, please try loading this page with nbviewer.org.</b></div><div class=\"sk-container\" hidden><div class=\"sk-item\"><div class=\"sk-estimator sk-toggleable\"><input class=\"sk-toggleable__control sk-hidden--visually\" id=\"sk-estimator-id-7\" type=\"checkbox\" checked><label for=\"sk-estimator-id-7\" class=\"sk-toggleable__label sk-toggleable__label-arrow\">PCA</label><div class=\"sk-toggleable__content\"><pre>PCA()</pre></div></div></div></div></div>"
      ],
      "text/plain": [
       "PCA()"
      ]
     },
     "execution_count": 29,
     "metadata": {},
     "output_type": "execute_result"
    }
   ],
   "source": [
    "pca = PCA()\n",
    "pca.fit(X)"
   ]
  },
  {
   "cell_type": "code",
   "execution_count": 26,
   "id": "f997b1b9",
   "metadata": {},
   "outputs": [
    {
     "data": {
      "text/plain": [
       "array([[-0.044, -0.011,  0.326,  0.562, -0.753, -0.098],\n",
       "       [ 0.112, -0.071,  0.259,  0.455,  0.347,  0.767],\n",
       "       [ 0.139, -0.066,  0.345,  0.415,  0.535, -0.632],\n",
       "       [ 0.768,  0.563,  0.218, -0.186, -0.1  ,  0.022],\n",
       "       [ 0.202, -0.659,  0.557, -0.451, -0.102,  0.035],\n",
       "       [-0.579,  0.489,  0.592, -0.258,  0.084,  0.046]])"
      ]
     },
     "execution_count": 26,
     "metadata": {},
     "output_type": "execute_result"
    }
   ],
   "source": [
    "np.round(pca.components_.T, 3)"
   ]
  },
  {
   "cell_type": "code",
   "execution_count": null,
   "id": "6304d553",
   "metadata": {},
   "outputs": [],
   "source": [
    "pca."
   ]
  }
 ],
 "metadata": {
  "kernelspec": {
   "display_name": "Python 3",
   "language": "python",
   "name": "python3"
  },
  "language_info": {
   "codemirror_mode": {
    "name": "ipython",
    "version": 3
   },
   "file_extension": ".py",
   "mimetype": "text/x-python",
   "name": "python",
   "nbconvert_exporter": "python",
   "pygments_lexer": "ipython3",
   "version": "3.8.8"
  }
 },
 "nbformat": 4,
 "nbformat_minor": 5
}
