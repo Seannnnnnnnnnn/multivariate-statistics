{
 "cells": [
  {
   "cell_type": "code",
   "execution_count": 52,
   "id": "484a0952",
   "metadata": {},
   "outputs": [],
   "source": [
    "import pandas as pd\n",
    "import numpy as np\n",
    "import matplotlib.pyplot as plt\n",
    "\n",
    "from sklearn.datasets import load_iris\n",
    "from sklearn.decomposition import PCA\n",
    "\n",
    "%matplotlib inline"
   ]
  },
  {
   "cell_type": "code",
   "execution_count": 36,
   "id": "d3e2f61c",
   "metadata": {},
   "outputs": [
    {
     "data": {
      "text/plain": [
       "dict_keys(['data', 'target', 'frame', 'target_names', 'DESCR', 'feature_names', 'filename', 'data_module'])"
      ]
     },
     "execution_count": 36,
     "metadata": {},
     "output_type": "execute_result"
    }
   ],
   "source": [
    "iris = load_iris()\n",
    "iris.keys()"
   ]
  },
  {
   "cell_type": "code",
   "execution_count": 37,
   "id": "56794954",
   "metadata": {},
   "outputs": [],
   "source": [
    "X = iris['data']\n",
    "y = iris['target']\n",
    "\n",
    "df = pd.DataFrame(iris['data'], columns=iris['feature_names'])\n",
    "df['target'] = iris['target']"
   ]
  },
  {
   "cell_type": "code",
   "execution_count": 39,
   "id": "352df539",
   "metadata": {},
   "outputs": [
    {
     "data": {
      "text/html": [
       "<div>\n",
       "<style scoped>\n",
       "    .dataframe tbody tr th:only-of-type {\n",
       "        vertical-align: middle;\n",
       "    }\n",
       "\n",
       "    .dataframe tbody tr th {\n",
       "        vertical-align: top;\n",
       "    }\n",
       "\n",
       "    .dataframe thead th {\n",
       "        text-align: right;\n",
       "    }\n",
       "</style>\n",
       "<table border=\"1\" class=\"dataframe\">\n",
       "  <thead>\n",
       "    <tr style=\"text-align: right;\">\n",
       "      <th></th>\n",
       "      <th>sepal length (cm)</th>\n",
       "      <th>sepal width (cm)</th>\n",
       "      <th>petal length (cm)</th>\n",
       "      <th>petal width (cm)</th>\n",
       "      <th>target</th>\n",
       "    </tr>\n",
       "  </thead>\n",
       "  <tbody>\n",
       "    <tr>\n",
       "      <th>0</th>\n",
       "      <td>5.1</td>\n",
       "      <td>3.5</td>\n",
       "      <td>1.4</td>\n",
       "      <td>0.2</td>\n",
       "      <td>0</td>\n",
       "    </tr>\n",
       "    <tr>\n",
       "      <th>1</th>\n",
       "      <td>4.9</td>\n",
       "      <td>3.0</td>\n",
       "      <td>1.4</td>\n",
       "      <td>0.2</td>\n",
       "      <td>0</td>\n",
       "    </tr>\n",
       "    <tr>\n",
       "      <th>2</th>\n",
       "      <td>4.7</td>\n",
       "      <td>3.2</td>\n",
       "      <td>1.3</td>\n",
       "      <td>0.2</td>\n",
       "      <td>0</td>\n",
       "    </tr>\n",
       "    <tr>\n",
       "      <th>3</th>\n",
       "      <td>4.6</td>\n",
       "      <td>3.1</td>\n",
       "      <td>1.5</td>\n",
       "      <td>0.2</td>\n",
       "      <td>0</td>\n",
       "    </tr>\n",
       "    <tr>\n",
       "      <th>4</th>\n",
       "      <td>5.0</td>\n",
       "      <td>3.6</td>\n",
       "      <td>1.4</td>\n",
       "      <td>0.2</td>\n",
       "      <td>0</td>\n",
       "    </tr>\n",
       "  </tbody>\n",
       "</table>\n",
       "</div>"
      ],
      "text/plain": [
       "   sepal length (cm)  sepal width (cm)  petal length (cm)  petal width (cm)  \\\n",
       "0                5.1               3.5                1.4               0.2   \n",
       "1                4.9               3.0                1.4               0.2   \n",
       "2                4.7               3.2                1.3               0.2   \n",
       "3                4.6               3.1                1.5               0.2   \n",
       "4                5.0               3.6                1.4               0.2   \n",
       "\n",
       "   target  \n",
       "0       0  \n",
       "1       0  \n",
       "2       0  \n",
       "3       0  \n",
       "4       0  "
      ]
     },
     "execution_count": 39,
     "metadata": {},
     "output_type": "execute_result"
    }
   ],
   "source": [
    "df.head()"
   ]
  },
  {
   "cell_type": "markdown",
   "id": "cbfd2ef3",
   "metadata": {},
   "source": [
    "### PCA\n",
    "\n",
    "Using PCA - we can reduce the dimenisionality of the problem to being two variables which still capture >97% of the total variance of the original data."
   ]
  },
  {
   "cell_type": "code",
   "execution_count": 79,
   "id": "c69c9a73",
   "metadata": {},
   "outputs": [],
   "source": [
    "pca = PCA().fit(X)"
   ]
  },
  {
   "cell_type": "code",
   "execution_count": 71,
   "id": "9e487039",
   "metadata": {},
   "outputs": [],
   "source": [
    "explained_variance  = pca.explained_variance_\n",
    "cumulative_variance = np.cumsum(explained_variance)\n",
    "cumulative_variance /= np.sum(explained_variance)"
   ]
  },
  {
   "cell_type": "code",
   "execution_count": 72,
   "id": "e0c45549",
   "metadata": {},
   "outputs": [
    {
     "data": {
      "text/plain": [
       "([<matplotlib.axis.XTick at 0x1d4040de730>,\n",
       "  <matplotlib.axis.XTick at 0x1d4040ca760>,\n",
       "  <matplotlib.axis.XTick at 0x1d4040693d0>,\n",
       "  <matplotlib.axis.XTick at 0x1d4042da2e0>],\n",
       " [Text(0, 0, ''), Text(0, 0, ''), Text(0, 0, ''), Text(0, 0, '')])"
      ]
     },
     "execution_count": 72,
     "metadata": {},
     "output_type": "execute_result"
    },
    {
     "data": {
      "image/png": "[encoded data removed]",
      "text/plain": [
       "<Figure size 432x288 with 1 Axes>"
      ]
     },
     "metadata": {
      "needs_background": "light"
     },
     "output_type": "display_data"
    }
   ],
   "source": [
    "plt.plot(range(1, len(cumulative_variance) + 1), # x-axis\n",
    "         cumulative_variance*100, # convert explained variance in percentage\n",
    "         marker='o', # add a marker at each value\n",
    "        )\n",
    "plt.title('Scree Plot of Explained Variance for Principal Components')\n",
    "plt.xlabel('Principal Component')\n",
    "plt.ylabel('Explained Variance (in %)')\n",
    "plt.xticks(range(1, len(explained_variance) + 1))"
   ]
  },
  {
   "cell_type": "markdown",
   "id": "4e08ca2a",
   "metadata": {},
   "source": [
    "### Interpreting the PCA\n",
    "\n",
    "We can inspect the coefficients in the PCA fit to determine which variables are most important in driving the defintions of the PC's. For PC1, we see it mostly a function of petal length, and to a lesser extent, petal_width and sepal length."
   ]
  },
  {
   "cell_type": "code",
   "execution_count": 94,
   "id": "a68177d2",
   "metadata": {},
   "outputs": [
    {
     "name": "stdout",
     "output_type": "stream",
     "text": [
      "     sepal length (cm)  sepal width (cm)  petal length (cm)  petal width (cm)\n",
      "PC1           0.361387         -0.084523           0.856671          0.358289\n",
      "PC2           0.656589          0.730161          -0.173373         -0.075481\n",
      "PC3          -0.582030          0.597911           0.076236          0.545831\n",
      "PC4          -0.315487          0.319723           0.479839         -0.753657\n"
     ]
    }
   ],
   "source": [
    "loadings = pca.components_\n",
    "\n",
    "loading_df = pd.DataFrame(loadings, \n",
    "                          columns=iris[\"feature_names\"],\n",
    "                          index=[f\"PC{i+1}\" for i in range(pca.n_components_)])\n",
    "\n",
    "print(loading_df)"
   ]
  },
  {
   "cell_type": "code",
   "execution_count": 98,
   "id": "3fb2f004",
   "metadata": {},
   "outputs": [
    {
     "data": {
      "text/plain": [
       "PC1    1.0\n",
       "PC2    1.0\n",
       "PC3    1.0\n",
       "PC4    1.0\n",
       "Name: Norm, dtype: float64"
      ]
     },
     "execution_count": 98,
     "metadata": {},
     "output_type": "execute_result"
    }
   ],
   "source": [
    "row_norms = np.linalg.norm(loading_df.values, axis=1)\n",
    "row_norms = pd.Series(row_norms, index=loading_df.index, name=\"Norm\")\n",
    "row_norms"
   ]
  },
  {
   "cell_type": "code",
   "execution_count": 101,
   "id": "65062f50",
   "metadata": {},
   "outputs": [],
   "source": [
    "# correlation analysis\n",
    "eig_vals = pca.explained_variance_\n",
    "correlations = loadings.T * np.sqrt(eig_vals)\n",
    "\n",
    "corr_df = pd.DataFrame(\n",
    "    correlations,\n",
    "    index=iris[\"feature_names\"],\n",
    "    columns=[f\"PC{i+1}\" for i in range(pca.n_components_)]\n",
    ")"
   ]
  },
  {
   "cell_type": "code",
   "execution_count": 102,
   "id": "94f402d6",
   "metadata": {},
   "outputs": [
    {
     "data": {
      "text/html": [
       "<div>\n",
       "<style scoped>\n",
       "    .dataframe tbody tr th:only-of-type {\n",
       "        vertical-align: middle;\n",
       "    }\n",
       "\n",
       "    .dataframe tbody tr th {\n",
       "        vertical-align: top;\n",
       "    }\n",
       "\n",
       "    .dataframe thead th {\n",
       "        text-align: right;\n",
       "    }\n",
       "</style>\n",
       "<table border=\"1\" class=\"dataframe\">\n",
       "  <thead>\n",
       "    <tr style=\"text-align: right;\">\n",
       "      <th></th>\n",
       "      <th>PC1</th>\n",
       "      <th>PC2</th>\n",
       "      <th>PC3</th>\n",
       "      <th>PC4</th>\n",
       "    </tr>\n",
       "  </thead>\n",
       "  <tbody>\n",
       "    <tr>\n",
       "      <th>sepal length (cm)</th>\n",
       "      <td>0.743108</td>\n",
       "      <td>0.323446</td>\n",
       "      <td>-0.162770</td>\n",
       "      <td>-0.048707</td>\n",
       "    </tr>\n",
       "    <tr>\n",
       "      <th>sepal width (cm)</th>\n",
       "      <td>-0.173801</td>\n",
       "      <td>0.359689</td>\n",
       "      <td>0.167212</td>\n",
       "      <td>0.049361</td>\n",
       "    </tr>\n",
       "    <tr>\n",
       "      <th>petal length (cm)</th>\n",
       "      <td>1.761545</td>\n",
       "      <td>-0.085406</td>\n",
       "      <td>0.021320</td>\n",
       "      <td>0.074081</td>\n",
       "    </tr>\n",
       "    <tr>\n",
       "      <th>petal width (cm)</th>\n",
       "      <td>0.736739</td>\n",
       "      <td>-0.037183</td>\n",
       "      <td>0.152647</td>\n",
       "      <td>-0.116354</td>\n",
       "    </tr>\n",
       "  </tbody>\n",
       "</table>\n",
       "</div>"
      ],
      "text/plain": [
       "                        PC1       PC2       PC3       PC4\n",
       "sepal length (cm)  0.743108  0.323446 -0.162770 -0.048707\n",
       "sepal width (cm)  -0.173801  0.359689  0.167212  0.049361\n",
       "petal length (cm)  1.761545 -0.085406  0.021320  0.074081\n",
       "petal width (cm)   0.736739 -0.037183  0.152647 -0.116354"
      ]
     },
     "execution_count": 102,
     "metadata": {},
     "output_type": "execute_result"
    }
   ],
   "source": [
    "corr_df"
   ]
  },
  {
   "cell_type": "code",
   "execution_count": 105,
   "id": "f202caec",
   "metadata": {},
   "outputs": [
    {
     "data": {
      "image/png": "[encoded data removed]",
      "text/plain": [
       "<Figure size 576x576 with 1 Axes>"
      ]
     },
     "metadata": {
      "needs_background": "light"
     },
     "output_type": "display_data"
    }
   ],
   "source": [
    "feature_stds = X.std(axis=0, ddof=1)\n",
    "\n",
    "# Correlations (features x PCs)\n",
    "correlations = (components.T * np.sqrt(eigenvalues)) / feature_stds[:, np.newaxis]\n",
    "\n",
    "# Start plot\n",
    "plt.figure(figsize=(8, 8))\n",
    "circle = plt.Circle((0, 0), 1, color='gray', fill=False, linestyle='--')\n",
    "plt.gca().add_artist(circle)\n",
    "\n",
    "# Plot feature vectors\n",
    "for i, feature in enumerate(loading_df.columns):\n",
    "    plt.arrow(0, 0, correlations[i, 0], correlations[i, 1],\n",
    "              color='b', alpha=0.7, head_width=0.03, length_includes_head=True)\n",
    "    plt.text(correlations[i, 0]*1.15, correlations[i, 1]*1.15, feature,\n",
    "             color='b', ha='center', va='center')\n",
    "\n",
    "# Axis labels\n",
    "plt.xlabel(f\"PC1 ({pca.explained_variance_ratio_[0]*100:.1f}%)\")\n",
    "plt.ylabel(f\"PC2 ({pca.explained_variance_ratio_[1]*100:.1f}%)\")\n",
    "\n",
    "# Formatting\n",
    "plt.axhline(0, color='grey', lw=1)\n",
    "plt.axvline(0, color='grey', lw=1)\n",
    "plt.title(\"PCA Correlation Circle (PC1 vs PC2)\")\n",
    "plt.xlim(-1.1, 1.1)\n",
    "plt.ylim(-1.1, 1.1)\n",
    "plt.gca().set_aspect('equal', adjustable='box')\n",
    "plt.grid(True, linestyle='--', alpha=0.5)"
   ]
  },
  {
   "cell_type": "code",
   "execution_count": null,
   "id": "1275fe64",
   "metadata": {},
   "outputs": [],
   "source": []
  }
 ],
 "metadata": {
  "kernelspec": {
   "display_name": "Python 3 (ipykernel)",
   "language": "python",
   "name": "python3"
  },
  "language_info": {
   "codemirror_mode": {
    "name": "ipython",
    "version": 3
   },
   "file_extension": ".py",
   "mimetype": "text/x-python",
   "name": "python",
   "nbconvert_exporter": "python",
   "pygments_lexer": "ipython3",
   "version": "3.9.12"
  }
 },
 "nbformat": 4,
 "nbformat_minor": 5
}
