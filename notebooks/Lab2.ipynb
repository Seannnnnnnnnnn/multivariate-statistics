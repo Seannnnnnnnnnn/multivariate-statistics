{
 "cells": [
  {
   "cell_type": "code",
   "execution_count": 73,
   "id": "4ed9b548",
   "metadata": {},
   "outputs": [],
   "source": [
    "import numpy as np\n",
    "import pandas as pd\n",
    "import matplotlib.pyplot as plt\n",
    "\n",
    "%matplotlib inline"
   ]
  },
  {
   "cell_type": "markdown",
   "id": "8274dddd",
   "metadata": {},
   "source": [
    "##### Task 1: Simple matrix operation"
   ]
  },
  {
   "cell_type": "markdown",
   "id": "566097ec",
   "metadata": {},
   "source": [
    "1. Compute $A^T$, the diagonal of $A$, $A^TA$ and $A^TB$"
   ]
  },
  {
   "cell_type": "code",
   "execution_count": 5,
   "id": "8e9d78ab",
   "metadata": {},
   "outputs": [],
   "source": [
    "A = np.array([[1, 1, 2], [1, 0, 1], [0, 2, 2]])"
   ]
  },
  {
   "cell_type": "code",
   "execution_count": 6,
   "id": "9accf8a0",
   "metadata": {},
   "outputs": [],
   "source": [
    "B = np.array([[-1, 5], [1, 1], [3, 2]])"
   ]
  },
  {
   "cell_type": "code",
   "execution_count": 7,
   "id": "31409412",
   "metadata": {},
   "outputs": [
    {
     "data": {
      "text/plain": [
       "array([[1, 1, 0],\n",
       "       [1, 0, 2],\n",
       "       [2, 1, 2]])"
      ]
     },
     "execution_count": 7,
     "metadata": {},
     "output_type": "execute_result"
    }
   ],
   "source": [
    "A.T"
   ]
  },
  {
   "cell_type": "code",
   "execution_count": 9,
   "id": "3fa1f3dc",
   "metadata": {},
   "outputs": [
    {
     "data": {
      "text/plain": [
       "array([1, 0, 2])"
      ]
     },
     "execution_count": 9,
     "metadata": {},
     "output_type": "execute_result"
    }
   ],
   "source": [
    "A.diagonal()"
   ]
  },
  {
   "cell_type": "code",
   "execution_count": 14,
   "id": "cb0d5586",
   "metadata": {},
   "outputs": [
    {
     "data": {
      "text/plain": [
       "array([[2, 1, 3],\n",
       "       [1, 5, 6],\n",
       "       [3, 6, 9]])"
      ]
     },
     "execution_count": 14,
     "metadata": {},
     "output_type": "execute_result"
    }
   ],
   "source": [
    "np.matmul(A.T, A) "
   ]
  },
  {
   "cell_type": "code",
   "execution_count": 17,
   "id": "a2c9309f",
   "metadata": {},
   "outputs": [
    {
     "data": {
      "text/plain": [
       "array([[ 0,  6],\n",
       "       [ 5,  9],\n",
       "       [ 5, 15]])"
      ]
     },
     "execution_count": 17,
     "metadata": {},
     "output_type": "execute_result"
    }
   ],
   "source": [
    "np.matmul(A.T, B)"
   ]
  },
  {
   "cell_type": "markdown",
   "id": "acf4a7ea",
   "metadata": {},
   "source": [
    "Compute the matrix $D$ whose elements are the elements of A to the power of 3. Compare this to the matrix $E=A^3$"
   ]
  },
  {
   "cell_type": "code",
   "execution_count": 22,
   "id": "2ae08925",
   "metadata": {},
   "outputs": [
    {
     "data": {
      "text/plain": [
       "array([[1, 1, 8],\n",
       "       [1, 0, 1],\n",
       "       [0, 8, 8]])"
      ]
     },
     "execution_count": 22,
     "metadata": {},
     "output_type": "execute_result"
    }
   ],
   "source": [
    "D = np.power(A, 3)\n",
    "D"
   ]
  },
  {
   "cell_type": "code",
   "execution_count": 23,
   "id": "be5e9344",
   "metadata": {},
   "outputs": [
    {
     "data": {
      "text/plain": [
       "array([[2, 2, 1],\n",
       "       [2, 3, 2],\n",
       "       [3, 1, 1]])"
      ]
     },
     "execution_count": 23,
     "metadata": {},
     "output_type": "execute_result"
    }
   ],
   "source": [
    "E = A^3\n",
    "E"
   ]
  },
  {
   "cell_type": "markdown",
   "id": "1a30c403",
   "metadata": {},
   "source": [
    "Compute the dimension, the trace, the determinant, the eigenvalues and the eigenvectors\n",
    "of A. Create three vectors, v1, v2 and v3 which are respectively the first, second and\n",
    "third eigenvectors of A. Create three scalars lambda1, lambda2 and lambda3 which are\n",
    "respectively the first, second and third eigenvalues of A. Also compute the rank of A. For\n",
    "the rank, you need to use the package Matrix"
   ]
  },
  {
   "cell_type": "code",
   "execution_count": 35,
   "id": "3e3ee783",
   "metadata": {},
   "outputs": [],
   "source": [
    "from numpy.linalg import eig, matrix_rank"
   ]
  },
  {
   "cell_type": "code",
   "execution_count": 30,
   "id": "a4f41582",
   "metadata": {},
   "outputs": [],
   "source": [
    "eigenvalues, eigenvectors = eig(A)"
   ]
  },
  {
   "cell_type": "code",
   "execution_count": 31,
   "id": "abca0afa",
   "metadata": {},
   "outputs": [
    {
     "data": {
      "text/plain": [
       "array([-3.02775638e-01, -5.55111512e-17,  3.30277564e+00])"
      ]
     },
     "execution_count": 31,
     "metadata": {},
     "output_type": "execute_result"
    }
   ],
   "source": [
    "eigenvalues"
   ]
  },
  {
   "cell_type": "code",
   "execution_count": 32,
   "id": "d4e6fb96",
   "metadata": {},
   "outputs": [
    {
     "data": {
      "text/plain": [
       "array([[-0.39280163,  0.57735027,  0.69431298],\n",
       "       [-0.69431298,  0.57735027,  0.39280163],\n",
       "       [ 0.60302269, -0.57735027,  0.60302269]])"
      ]
     },
     "execution_count": 32,
     "metadata": {},
     "output_type": "execute_result"
    }
   ],
   "source": [
    "eigenvectors"
   ]
  },
  {
   "cell_type": "code",
   "execution_count": 36,
   "id": "4a3aa4e8",
   "metadata": {},
   "outputs": [
    {
     "data": {
      "text/plain": [
       "2"
      ]
     },
     "execution_count": 36,
     "metadata": {},
     "output_type": "execute_result"
    }
   ],
   "source": [
    "matrix_rank(A)"
   ]
  },
  {
   "cell_type": "markdown",
   "id": "65ae238f",
   "metadata": {},
   "source": [
    "##### Task 2: Elementary Descriptive Statistics\n",
    "\n",
    "The file google_review_ratings.csv taken from https://archive.ics.uci.edu/ml/datasets/Tarvel+Review+Ratings#, contains data populated by capturing user ratings from Google re-\n",
    "views (Dennis: I have corrected one seemingly erroneous entry in the dataset). Reviews on\n",
    "attractions from 24 categories across Europe are considered. Google user rating ranges from 1\n",
    "to 5 and average user rating per category is calculated. This data set contains the reviews over\n",
    "the p = 24 categories of n = 5456 individuals."
   ]
  },
  {
   "cell_type": "markdown",
   "id": "66bd0696",
   "metadata": {},
   "source": [
    "1. Open the file to see it's structure and check how the attributes are formatted in the file"
   ]
  },
  {
   "cell_type": "code",
   "execution_count": 70,
   "id": "625630c3",
   "metadata": {},
   "outputs": [],
   "source": [
    "from ucimlrepo import fetch_ucirepo \n",
    "\n",
    "# this is actually really cool - UC Irvine has a nice API to just read in datasets now. \n",
    "# id=485 corresponds to the dataset we're after here\n",
    "data_set = fetch_ucirepo(id=485)"
   ]
  },
  {
   "cell_type": "code",
   "execution_count": 55,
   "id": "272623be",
   "metadata": {},
   "outputs": [],
   "source": [
    "X = data_set.data.features"
   ]
  },
  {
   "cell_type": "code",
   "execution_count": 57,
   "id": "42be0652",
   "metadata": {},
   "outputs": [
    {
     "data": {
      "text/plain": [
       "Index(['churches', 'resorts', 'beaches', 'parks', 'theatres', 'museums',\n",
       "       'malls', 'zoos', 'restaurants', 'pubs/bars', 'local services',\n",
       "       'burger/pizza shops', 'hotels/other lodgings', 'juice bars',\n",
       "       'art galleries', 'dance clubs', 'swimming pools', 'gyms', 'bakeries',\n",
       "       'beauty & spas', 'cafes', 'view points', 'monuments', 'gardens'],\n",
       "      dtype='object')"
      ]
     },
     "execution_count": 57,
     "metadata": {},
     "output_type": "execute_result"
    }
   ],
   "source": [
    "X.columns"
   ]
  },
  {
   "cell_type": "code",
   "execution_count": 59,
   "id": "dca4394c",
   "metadata": {},
   "outputs": [],
   "source": [
    "y = data_set.data.targets"
   ]
  },
  {
   "cell_type": "markdown",
   "id": "9e5f3b06",
   "metadata": {},
   "source": [
    "Compute the mean vector, the covariance matrix and correlation matrix for the rating data"
   ]
  },
  {
   "cell_type": "code",
   "execution_count": 64,
   "id": "1e8714ed",
   "metadata": {},
   "outputs": [
    {
     "data": {
      "text/html": [
       "<div>\n",
       "<style scoped>\n",
       "    .dataframe tbody tr th:only-of-type {\n",
       "        vertical-align: middle;\n",
       "    }\n",
       "\n",
       "    .dataframe tbody tr th {\n",
       "        vertical-align: top;\n",
       "    }\n",
       "\n",
       "    .dataframe thead th {\n",
       "        text-align: right;\n",
       "    }\n",
       "</style>\n",
       "<table border=\"1\" class=\"dataframe\">\n",
       "  <thead>\n",
       "    <tr style=\"text-align: right;\">\n",
       "      <th></th>\n",
       "      <th>churches</th>\n",
       "      <th>resorts</th>\n",
       "      <th>beaches</th>\n",
       "      <th>parks</th>\n",
       "      <th>theatres</th>\n",
       "      <th>museums</th>\n",
       "      <th>malls</th>\n",
       "      <th>zoos</th>\n",
       "      <th>restaurants</th>\n",
       "      <th>pubs/bars</th>\n",
       "      <th>...</th>\n",
       "      <th>art galleries</th>\n",
       "      <th>dance clubs</th>\n",
       "      <th>swimming pools</th>\n",
       "      <th>gyms</th>\n",
       "      <th>bakeries</th>\n",
       "      <th>beauty &amp; spas</th>\n",
       "      <th>cafes</th>\n",
       "      <th>view points</th>\n",
       "      <th>monuments</th>\n",
       "      <th>gardens</th>\n",
       "    </tr>\n",
       "  </thead>\n",
       "  <tbody>\n",
       "    <tr>\n",
       "      <th>0</th>\n",
       "      <td>0.00</td>\n",
       "      <td>0.00</td>\n",
       "      <td>3.63</td>\n",
       "      <td>3.65</td>\n",
       "      <td>5.00</td>\n",
       "      <td>2.92</td>\n",
       "      <td>5.00</td>\n",
       "      <td>2.35</td>\n",
       "      <td>2.33</td>\n",
       "      <td>2.64</td>\n",
       "      <td>...</td>\n",
       "      <td>1.74</td>\n",
       "      <td>0.59</td>\n",
       "      <td>0.50</td>\n",
       "      <td>0.00</td>\n",
       "      <td>0.50</td>\n",
       "      <td>0.00</td>\n",
       "      <td>0.00</td>\n",
       "      <td>0.0</td>\n",
       "      <td>0.0</td>\n",
       "      <td>0.00</td>\n",
       "    </tr>\n",
       "    <tr>\n",
       "      <th>1</th>\n",
       "      <td>0.00</td>\n",
       "      <td>0.00</td>\n",
       "      <td>3.63</td>\n",
       "      <td>3.65</td>\n",
       "      <td>5.00</td>\n",
       "      <td>2.92</td>\n",
       "      <td>5.00</td>\n",
       "      <td>2.64</td>\n",
       "      <td>2.33</td>\n",
       "      <td>2.65</td>\n",
       "      <td>...</td>\n",
       "      <td>1.74</td>\n",
       "      <td>0.59</td>\n",
       "      <td>0.50</td>\n",
       "      <td>0.00</td>\n",
       "      <td>0.50</td>\n",
       "      <td>0.00</td>\n",
       "      <td>0.00</td>\n",
       "      <td>0.0</td>\n",
       "      <td>0.0</td>\n",
       "      <td>0.00</td>\n",
       "    </tr>\n",
       "    <tr>\n",
       "      <th>2</th>\n",
       "      <td>0.00</td>\n",
       "      <td>0.00</td>\n",
       "      <td>3.63</td>\n",
       "      <td>3.63</td>\n",
       "      <td>5.00</td>\n",
       "      <td>2.92</td>\n",
       "      <td>5.00</td>\n",
       "      <td>2.64</td>\n",
       "      <td>2.33</td>\n",
       "      <td>2.64</td>\n",
       "      <td>...</td>\n",
       "      <td>1.74</td>\n",
       "      <td>0.59</td>\n",
       "      <td>0.50</td>\n",
       "      <td>0.00</td>\n",
       "      <td>0.50</td>\n",
       "      <td>0.00</td>\n",
       "      <td>0.00</td>\n",
       "      <td>0.0</td>\n",
       "      <td>0.0</td>\n",
       "      <td>0.00</td>\n",
       "    </tr>\n",
       "    <tr>\n",
       "      <th>3</th>\n",
       "      <td>0.00</td>\n",
       "      <td>0.50</td>\n",
       "      <td>3.63</td>\n",
       "      <td>3.63</td>\n",
       "      <td>5.00</td>\n",
       "      <td>2.92</td>\n",
       "      <td>5.00</td>\n",
       "      <td>2.35</td>\n",
       "      <td>2.33</td>\n",
       "      <td>2.64</td>\n",
       "      <td>...</td>\n",
       "      <td>1.74</td>\n",
       "      <td>0.59</td>\n",
       "      <td>0.50</td>\n",
       "      <td>0.00</td>\n",
       "      <td>0.50</td>\n",
       "      <td>0.00</td>\n",
       "      <td>0.00</td>\n",
       "      <td>0.0</td>\n",
       "      <td>0.0</td>\n",
       "      <td>0.00</td>\n",
       "    </tr>\n",
       "    <tr>\n",
       "      <th>4</th>\n",
       "      <td>0.00</td>\n",
       "      <td>0.00</td>\n",
       "      <td>3.63</td>\n",
       "      <td>3.63</td>\n",
       "      <td>5.00</td>\n",
       "      <td>2.92</td>\n",
       "      <td>5.00</td>\n",
       "      <td>2.64</td>\n",
       "      <td>2.33</td>\n",
       "      <td>2.64</td>\n",
       "      <td>...</td>\n",
       "      <td>1.74</td>\n",
       "      <td>0.59</td>\n",
       "      <td>0.50</td>\n",
       "      <td>0.00</td>\n",
       "      <td>0.50</td>\n",
       "      <td>0.00</td>\n",
       "      <td>0.00</td>\n",
       "      <td>0.0</td>\n",
       "      <td>0.0</td>\n",
       "      <td>0.00</td>\n",
       "    </tr>\n",
       "    <tr>\n",
       "      <th>...</th>\n",
       "      <td>...</td>\n",
       "      <td>...</td>\n",
       "      <td>...</td>\n",
       "      <td>...</td>\n",
       "      <td>...</td>\n",
       "      <td>...</td>\n",
       "      <td>...</td>\n",
       "      <td>...</td>\n",
       "      <td>...</td>\n",
       "      <td>...</td>\n",
       "      <td>...</td>\n",
       "      <td>...</td>\n",
       "      <td>...</td>\n",
       "      <td>...</td>\n",
       "      <td>...</td>\n",
       "      <td>...</td>\n",
       "      <td>...</td>\n",
       "      <td>...</td>\n",
       "      <td>...</td>\n",
       "      <td>...</td>\n",
       "      <td>...</td>\n",
       "    </tr>\n",
       "    <tr>\n",
       "      <th>5451</th>\n",
       "      <td>0.91</td>\n",
       "      <td>5.00</td>\n",
       "      <td>4.00</td>\n",
       "      <td>2.79</td>\n",
       "      <td>2.77</td>\n",
       "      <td>2.57</td>\n",
       "      <td>2.43</td>\n",
       "      <td>1.09</td>\n",
       "      <td>1.77</td>\n",
       "      <td>1.04</td>\n",
       "      <td>...</td>\n",
       "      <td>5.00</td>\n",
       "      <td>0.66</td>\n",
       "      <td>0.65</td>\n",
       "      <td>0.66</td>\n",
       "      <td>0.69</td>\n",
       "      <td>5.00</td>\n",
       "      <td>1.05</td>\n",
       "      <td>5.0</td>\n",
       "      <td>5.0</td>\n",
       "      <td>1.56</td>\n",
       "    </tr>\n",
       "    <tr>\n",
       "      <th>5452</th>\n",
       "      <td>0.93</td>\n",
       "      <td>5.00</td>\n",
       "      <td>4.02</td>\n",
       "      <td>2.79</td>\n",
       "      <td>2.78</td>\n",
       "      <td>2.57</td>\n",
       "      <td>1.77</td>\n",
       "      <td>1.07</td>\n",
       "      <td>1.76</td>\n",
       "      <td>1.02</td>\n",
       "      <td>...</td>\n",
       "      <td>0.89</td>\n",
       "      <td>0.65</td>\n",
       "      <td>0.64</td>\n",
       "      <td>0.65</td>\n",
       "      <td>1.59</td>\n",
       "      <td>1.62</td>\n",
       "      <td>1.06</td>\n",
       "      <td>5.0</td>\n",
       "      <td>5.0</td>\n",
       "      <td>1.09</td>\n",
       "    </tr>\n",
       "    <tr>\n",
       "      <th>5453</th>\n",
       "      <td>0.94</td>\n",
       "      <td>5.00</td>\n",
       "      <td>4.03</td>\n",
       "      <td>2.80</td>\n",
       "      <td>2.78</td>\n",
       "      <td>2.57</td>\n",
       "      <td>1.75</td>\n",
       "      <td>1.05</td>\n",
       "      <td>1.75</td>\n",
       "      <td>1.00</td>\n",
       "      <td>...</td>\n",
       "      <td>0.87</td>\n",
       "      <td>0.65</td>\n",
       "      <td>0.63</td>\n",
       "      <td>0.64</td>\n",
       "      <td>0.74</td>\n",
       "      <td>5.00</td>\n",
       "      <td>1.07</td>\n",
       "      <td>5.0</td>\n",
       "      <td>5.0</td>\n",
       "      <td>1.11</td>\n",
       "    </tr>\n",
       "    <tr>\n",
       "      <th>5454</th>\n",
       "      <td>0.95</td>\n",
       "      <td>4.05</td>\n",
       "      <td>4.05</td>\n",
       "      <td>2.81</td>\n",
       "      <td>2.79</td>\n",
       "      <td>2.44</td>\n",
       "      <td>1.76</td>\n",
       "      <td>1.03</td>\n",
       "      <td>1.74</td>\n",
       "      <td>0.98</td>\n",
       "      <td>...</td>\n",
       "      <td>5.00</td>\n",
       "      <td>0.64</td>\n",
       "      <td>0.63</td>\n",
       "      <td>0.64</td>\n",
       "      <td>0.75</td>\n",
       "      <td>5.00</td>\n",
       "      <td>1.08</td>\n",
       "      <td>5.0</td>\n",
       "      <td>5.0</td>\n",
       "      <td>1.12</td>\n",
       "    </tr>\n",
       "    <tr>\n",
       "      <th>5455</th>\n",
       "      <td>0.95</td>\n",
       "      <td>4.07</td>\n",
       "      <td>5.00</td>\n",
       "      <td>2.82</td>\n",
       "      <td>2.80</td>\n",
       "      <td>2.57</td>\n",
       "      <td>2.42</td>\n",
       "      <td>1.02</td>\n",
       "      <td>1.74</td>\n",
       "      <td>0.96</td>\n",
       "      <td>...</td>\n",
       "      <td>0.85</td>\n",
       "      <td>0.64</td>\n",
       "      <td>0.62</td>\n",
       "      <td>0.63</td>\n",
       "      <td>0.78</td>\n",
       "      <td>5.00</td>\n",
       "      <td>1.08</td>\n",
       "      <td>5.0</td>\n",
       "      <td>5.0</td>\n",
       "      <td>1.17</td>\n",
       "    </tr>\n",
       "  </tbody>\n",
       "</table>\n",
       "<p>5456 rows × 24 columns</p>\n",
       "</div>"
      ],
      "text/plain": [
       "      churches  resorts  beaches  parks  theatres  museums  malls  zoos  \\\n",
       "0         0.00     0.00     3.63   3.65      5.00     2.92   5.00  2.35   \n",
       "1         0.00     0.00     3.63   3.65      5.00     2.92   5.00  2.64   \n",
       "2         0.00     0.00     3.63   3.63      5.00     2.92   5.00  2.64   \n",
       "3         0.00     0.50     3.63   3.63      5.00     2.92   5.00  2.35   \n",
       "4         0.00     0.00     3.63   3.63      5.00     2.92   5.00  2.64   \n",
       "...        ...      ...      ...    ...       ...      ...    ...   ...   \n",
       "5451      0.91     5.00     4.00   2.79      2.77     2.57   2.43  1.09   \n",
       "5452      0.93     5.00     4.02   2.79      2.78     2.57   1.77  1.07   \n",
       "5453      0.94     5.00     4.03   2.80      2.78     2.57   1.75  1.05   \n",
       "5454      0.95     4.05     4.05   2.81      2.79     2.44   1.76  1.03   \n",
       "5455      0.95     4.07     5.00   2.82      2.80     2.57   2.42  1.02   \n",
       "\n",
       "      restaurants  pubs/bars  ... art galleries  dance clubs  swimming pools  \\\n",
       "0            2.33       2.64  ...          1.74         0.59            0.50   \n",
       "1            2.33       2.65  ...          1.74         0.59            0.50   \n",
       "2            2.33       2.64  ...          1.74         0.59            0.50   \n",
       "3            2.33       2.64  ...          1.74         0.59            0.50   \n",
       "4            2.33       2.64  ...          1.74         0.59            0.50   \n",
       "...           ...        ...  ...           ...          ...             ...   \n",
       "5451         1.77       1.04  ...          5.00         0.66            0.65   \n",
       "5452         1.76       1.02  ...          0.89         0.65            0.64   \n",
       "5453         1.75       1.00  ...          0.87         0.65            0.63   \n",
       "5454         1.74       0.98  ...          5.00         0.64            0.63   \n",
       "5455         1.74       0.96  ...          0.85         0.64            0.62   \n",
       "\n",
       "      gyms  bakeries  beauty & spas  cafes  view points  monuments  gardens  \n",
       "0     0.00      0.50           0.00   0.00          0.0        0.0     0.00  \n",
       "1     0.00      0.50           0.00   0.00          0.0        0.0     0.00  \n",
       "2     0.00      0.50           0.00   0.00          0.0        0.0     0.00  \n",
       "3     0.00      0.50           0.00   0.00          0.0        0.0     0.00  \n",
       "4     0.00      0.50           0.00   0.00          0.0        0.0     0.00  \n",
       "...    ...       ...            ...    ...          ...        ...      ...  \n",
       "5451  0.66      0.69           5.00   1.05          5.0        5.0     1.56  \n",
       "5452  0.65      1.59           1.62   1.06          5.0        5.0     1.09  \n",
       "5453  0.64      0.74           5.00   1.07          5.0        5.0     1.11  \n",
       "5454  0.64      0.75           5.00   1.08          5.0        5.0     1.12  \n",
       "5455  0.63      0.78           5.00   1.08          5.0        5.0     1.17  \n",
       "\n",
       "[5456 rows x 24 columns]"
      ]
     },
     "execution_count": 64,
     "metadata": {},
     "output_type": "execute_result"
    }
   ],
   "source": [
    "X"
   ]
  },
  {
   "cell_type": "code",
   "execution_count": 69,
   "id": "705f87ce",
   "metadata": {},
   "outputs": [
    {
     "data": {
      "text/plain": [
       "Index(['churches', 'resorts', 'beaches', 'parks', 'theatres', 'museums',\n",
       "       'malls', 'zoos', 'restaurants', 'pubs/bars', 'local services',\n",
       "       'burger/pizza shops', 'hotels/other lodgings', 'juice bars',\n",
       "       'art galleries', 'dance clubs', 'swimming pools', 'gyms', 'bakeries',\n",
       "       'beauty & spas', 'cafes', 'view points', 'monuments', 'gardens'],\n",
       "      dtype='object')"
      ]
     },
     "execution_count": 69,
     "metadata": {},
     "output_type": "execute_result"
    }
   ],
   "source": [
    "X.columns"
   ]
  },
  {
   "cell_type": "code",
   "execution_count": 72,
   "id": "c8e1332d",
   "metadata": {},
   "outputs": [
    {
     "data": {
      "image/png": "[encoded data removed]",
      "text/plain": [
       "<Figure size 432x288 with 529 Axes>"
      ]
     },
     "metadata": {
      "needs_background": "light"
     },
     "output_type": "display_data"
    }
   ],
   "source": [
    "pd.plotting.scatter_matrix(X)\n",
    "plt.show()"
   ]
  }
 ],
 "metadata": {
  "kernelspec": {
   "display_name": "Python 3",
   "language": "python",
   "name": "python3"
  },
  "language_info": {
   "codemirror_mode": {
    "name": "ipython",
    "version": 3
   },
   "file_extension": ".py",
   "mimetype": "text/x-python",
   "name": "python",
   "nbconvert_exporter": "python",
   "pygments_lexer": "ipython3",
   "version": "3.8.8"
  }
 },
 "nbformat": 4,
 "nbformat_minor": 5
}
